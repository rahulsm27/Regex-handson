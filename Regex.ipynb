{
 "cells": [
  {
   "cell_type": "code",
   "execution_count": 2,
   "metadata": {},
   "outputs": [],
   "source": [
    "import re"
   ]
  },
  {
   "cell_type": "code",
   "execution_count": 73,
   "metadata": {},
   "outputs": [
    {
     "name": "stdout",
     "output_type": "stream",
     "text": [
      "Pattern : ^(?=\\w{3,6}$)\n",
      "GroupDict                              Entire match                                   Span\n",
      "()                                                                                  (0, 0)\n",
      "---------------------------------------------------------------------------------------------------------\n",
      "Pattern : ^(?=\\w{3,6}).*\n",
      "GroupDict                              Entire match                                   Span\n",
      "()                                        ABCDEa                                    (0, 6)\n",
      "---------------------------------------------------------------------------------------------------------\n",
      "Pattern : ^(?=\\w{3,6})$\n"
     ]
    }
   ],
   "source": [
    "# Password\n",
    "# ^ begins at start of sting, \\w 3 to 6 times, then $ it should be end of string.\n",
    "# Matches entire sting lenght from 3 to 6\n",
    "# Note $ has to be inside it means ^ starting at current position look ahead \\w characters for 3 to 6 times and then there should be \n",
    "# end of string.\n",
    "# if $ is outside it will written end of strign which is not possible\n",
    "#.* matches maximum possible string and writtens\n",
    "\n",
    "s='ABCDEa'\n",
    "pattern = [r'^(?=\\w{3,6}$)', r'^(?=\\w{3,6}).*', r'^(?=\\w{3,6})$']\n",
    "\n",
    "for p in pattern:\n",
    "  print(f\"Pattern : {p}\")\n",
    "  for match in re.finditer(p,s):\n",
    "    #  print(match.span())\n",
    "      print (f\"{'GroupDict' : <30}\",end='')\n",
    "      print(f\"{'Entire match' : ^30}\",end='')\n",
    "      print(f\"{'Span': >30}\")\n",
    "      print(f\"{str(match.groups() ): <30}\",end=\"\")\n",
    "      print(f\"{match.group(): ^30}\",end=\"\")\n",
    "      print(f\"{str(match.span()) : >30}\")\n",
    "      print(\"---------------------------------------------------------------------------------------------------------\")"
   ]
  },
  {
   "cell_type": "code",
   "execution_count": null,
   "metadata": {},
   "outputs": [],
   "source": []
  },
  {
   "cell_type": "code",
   "execution_count": null,
   "metadata": {},
   "outputs": [],
   "source": []
  },
  {
   "cell_type": "code",
   "execution_count": null,
   "metadata": {},
   "outputs": [],
   "source": []
  },
  {
   "cell_type": "code",
   "execution_count": null,
   "metadata": {},
   "outputs": [],
   "source": []
  },
  {
   "cell_type": "code",
   "execution_count": null,
   "metadata": {},
   "outputs": [],
   "source": []
  },
  {
   "cell_type": "code",
   "execution_count": null,
   "metadata": {},
   "outputs": [],
   "source": []
  },
  {
   "cell_type": "code",
   "execution_count": 102,
   "metadata": {},
   "outputs": [
    {
     "name": "stdout",
     "output_type": "stream",
     "text": [
      "GroupDict                              Entire match                                   Span\n",
      "{'w1': 'ABC'}                                                                       (0, 0)\n",
      "---------------------------------------------------------------------------------------------------------\n",
      "GroupDict                              Entire match                                   Span\n",
      "{'w1': 'BC'}                                                                        (1, 1)\n",
      "---------------------------------------------------------------------------------------------------------\n",
      "GroupDict                              Entire match                                   Span\n",
      "{'w1': 'C'}                                                                         (2, 2)\n",
      "---------------------------------------------------------------------------------------------------------\n"
     ]
    }
   ],
   "source": [
    "# Group\n",
    "# Group starts from 1 not 0\n",
    "# Below gives a named group for \\w as w1 . to access it use match.group('w1'). Note it is string\n",
    "# Entire match is blank because of look ahead. it gives position 0 ,1,2\n",
    "\n",
    "s='ABC'\n",
    "pattern = r'(?=(?P<w1>\\w+))'\n",
    "\n",
    "for match in re.finditer(pattern,s):\n",
    "  #  print(match.span())\n",
    "    print (f\"{'GroupDict' : <30}\",end='')\n",
    "    print(f\"{'Entire match' : ^30}\",end='')\n",
    "    print(f\"{'Span': >30}\")\n",
    "    print(f\"{str(match.groupdict() ): <30}\",end=\"\") # Note here i have used groupdict\n",
    "    print(f\"{match.group(): ^30}\",end=\"\")\n",
    "    print(f\"{str(match.span()) : >30}\")\n",
    "    print(\"---------------------------------------------------------------------------------------------------------\")"
   ]
  },
  {
   "cell_type": "code",
   "execution_count": 30,
   "metadata": {},
   "outputs": [],
   "source": [
    "s='(?=(\\w+))'\n",
    "pattern = r'^(?=\\w{3,6}$)(?=.*[A-Z])(?=.*[@$^])(?!.*[&])'"
   ]
  },
  {
   "cell_type": "code",
   "execution_count": 31,
   "metadata": {},
   "outputs": [
    {
     "name": "stdout",
     "output_type": "stream",
     "text": [
      "(0, 0)\n",
      "\n"
     ]
    }
   ],
   "source": [
    "for match in re.finditer(pattern,s):\n",
    "    print(match.span())\n",
    "    print(match.group(0))\n",
    "   # print(match.group(1))"
   ]
  },
  {
   "cell_type": "code",
   "execution_count": null,
   "metadata": {},
   "outputs": [],
   "source": []
  },
  {
   "cell_type": "code",
   "execution_count": null,
   "metadata": {},
   "outputs": [],
   "source": [
    "\n",
    "# Lookahead\n",
    "# \\d+(?= dollars) and (?=\\d+ dollars)\\d+ both match 100 in 100 dollars, \n",
    "# but the first is more efficient because the engine needs to match \\d+ only once.\n",
    "\n",
    "# Negative Lookahead\n",
    "# \\d+(?! dollars) and (?!\\d+ dollars)\\d+ both match 100 in 100 pesos, \n",
    "# but the first is more efficient because the engine needs to match \\d+ only once.\n",
    "\n",
    "# Lookbehind\n",
    "# (?<=USD)\\d{3} and \\d{3}(?<=USD\\d{3}) both match 100 in USD100, \n",
    "# but the first is more efficient because the engine needs to match \\d{3} only once.\n",
    "\n",
    "# Negative Lookbehind\n",
    "# (?<!USD)\\d{3} and \\d{3}(?<!USD\\d{3}) both match 100 in JPY100, \n",
    "# but the first is more efficient because the engine needs to match \\d{3} only once.\n",
    "\n",
    "# Look ahead for 5A for three times\n",
    "# writtens the las matched \n",
    "s='a5Aaaa5Bnn5Cmm5DD'\n",
    "print(len(s))\n",
    "\n",
    "# First will match 5Aaaa5Bnn5C and 5Bnn5Cmm5DD\n",
    "# Thrid will match 5Aaaa5Bnn5Cmm5DD and 5Bnn5Cmm5DD\n",
    "\n",
    "\n",
    "pattern = [r'(?=(5[A-Z].*?){3})', r'(?=(5[A-Z].*?){3}).*', r'(?=(5[A-Z].*){3})']\n",
    "\n",
    "for p in pattern:\n",
    "  print(f\"Pattern : {p}\")\n",
    "  for match in re.finditer(p,s):\n",
    "    #  print(match.span())\n",
    "      print (f\"{'GroupDict' : <30}\",end='')\n",
    "      print(f\"{'Entire match' : ^30}\",end='')\n",
    "      print(f\"{'Span': >30}\")\n",
    "      print(f\"{str(match.groups() ): <30}\",end=\"\")\n",
    "      print(f\"{match.group(): ^30}\",end=\"\")\n",
    "      print(f\"{str(match.span()) : >30}\")\n",
    "      \n",
    "      print(\"---------------------------------------------------------------------------------------------------------\")\n"
   ]
  },
  {
   "cell_type": "code",
   "execution_count": 74,
   "metadata": {},
   "outputs": [
    {
     "name": "stdout",
     "output_type": "stream",
     "text": [
      "8\n",
      "Pattern : (?=.*[A-Z])(?=\\w{3,5})\n",
      "GroupDict                              Entire match                                   Span\n",
      "()                                                                                  (0, 0)\n",
      "---------------------------------------------------------------------------------------------------------\n",
      "GroupDict                              Entire match                                   Span\n",
      "()                                                                                  (1, 1)\n",
      "---------------------------------------------------------------------------------------------------------\n",
      "GroupDict                              Entire match                                   Span\n",
      "()                                                                                  (2, 2)\n",
      "---------------------------------------------------------------------------------------------------------\n",
      "Pattern : (?=.*[A-Z])(?=\\w{3,5}).*\n",
      "GroupDict                              Entire match                                   Span\n",
      "()                                       RgGsdfaf                                   (0, 8)\n",
      "---------------------------------------------------------------------------------------------------------\n",
      "Pattern : ^(?=.*[A-Z])^(?=\\w{3,5}).?\n",
      "GroupDict                              Entire match                                   Span\n",
      "()                                          R                                       (0, 1)\n",
      "---------------------------------------------------------------------------------------------------------\n"
     ]
    }
   ],
   "source": [
    "# this states that at current posigtion can we find words with one capital\n",
    "# also can we find words of length 3 to 5 . \n",
    "# the match will happen at R , g , G. Thats why in first output we get three matches\n",
    "# in second output we want to written with .*..since it is greedy it will give output of first match for entire\n",
    "s='RgGsdfaf'\n",
    "print(len(s))\n",
    "pattern = [r'(?=.*[A-Z])(?=\\w{3,5})',r'(?=.*[A-Z])(?=\\w{3,5}).*',r'^(?=.*[A-Z])^(?=\\w{3,5}).?']\n",
    "\n",
    "for p in pattern:\n",
    "  print(f\"Pattern : {p}\")\n",
    "  for match in re.finditer(p,s):\n",
    "    #  print(match.span())\n",
    "      print (f\"{'GroupDict' : <30}\",end='')\n",
    "      print(f\"{'Entire match' : ^30}\",end='')\n",
    "      print(f\"{'Span': >30}\")\n",
    "      print(f\"{str(match.groups() ): <30}\",end=\"\")\n",
    "      print(f\"{match.group(): ^30}\",end=\"\")\n",
    "      print(f\"{str(match.span()) : >30}\")\n",
    "      print(\"---------------------------------------------------------------------------------------------------------\")"
   ]
  },
  {
   "cell_type": "code",
   "execution_count": 65,
   "metadata": {},
   "outputs": [
    {
     "name": "stdout",
     "output_type": "stream",
     "text": [
      "9\n",
      "Pattern : (?=.*[A-Z])(?=\\w{3,5})\n",
      "GroupDict                              Entire match                                   Span\n",
      "{}                                                                                  (0, 0)\n",
      "---------------------------------------------------------------------------------------------------------\n",
      "GroupDict                              Entire match                                   Span\n",
      "{}                                                                                  (1, 1)\n",
      "---------------------------------------------------------------------------------------------------------\n",
      "GroupDict                              Entire match                                   Span\n",
      "{}                                                                                  (2, 2)\n",
      "---------------------------------------------------------------------------------------------------------\n",
      "GroupDict                              Entire match                                   Span\n",
      "{}                                                                                  (3, 3)\n",
      "---------------------------------------------------------------------------------------------------------\n",
      "GroupDict                              Entire match                                   Span\n",
      "{}                                                                                  (4, 4)\n",
      "---------------------------------------------------------------------------------------------------------\n",
      "GroupDict                              Entire match                                   Span\n",
      "{}                                                                                  (5, 5)\n",
      "---------------------------------------------------------------------------------------------------------\n",
      "GroupDict                              Entire match                                   Span\n",
      "{}                                                                                  (6, 6)\n",
      "---------------------------------------------------------------------------------------------------------\n",
      "Pattern : (?=.*[A-Z])(?=\\w{3,5}).*\n",
      "GroupDict                              Entire match                                   Span\n",
      "{}                                      RgGsdfafA                                   (0, 9)\n",
      "---------------------------------------------------------------------------------------------------------\n",
      "Pattern : ^(?=.*[A-Z])^(?=\\w{3,5}).?\n",
      "GroupDict                              Entire match                                   Span\n",
      "{}                                          R                                       (0, 1)\n",
      "---------------------------------------------------------------------------------------------------------\n"
     ]
    }
   ],
   "source": [
    "# Another example of above with capital letter in string\n",
    "# Note the change in first match..it move to till last small a (3 characters are present)\n",
    "# In order to match whole 3,5 for whole string use $ inside the lookahead so that \n",
    "s='RgGsdfafA'\n",
    "print(len(s))\n",
    "pattern = [r'(?=.*[A-Z])(?=\\w{3,5})',r'(?=.*[A-Z])(?=\\w{3,5}).*',r'^(?=.*[A-Z])^(?=\\w{3,5}).?']\n",
    "\n",
    "for p in pattern:\n",
    "  print(f\"Pattern : {p}\")\n",
    "  for match in re.finditer(p,s):\n",
    "    #  print(match.span())\n",
    "      print (f\"{'GroupDict' : <30}\",end='')\n",
    "      print(f\"{'Entire match' : ^30}\",end='')\n",
    "      print(f\"{'Span': >30}\")\n",
    "      print(f\"{str(match.groupdict() ): <30}\",end=\"\")\n",
    "      print(f\"{match.group(): ^30}\",end=\"\")\n",
    "      print(f\"{str(match.span()) : >30}\")\n",
    "      print(\"---------------------------------------------------------------------------------------------------------\")"
   ]
  },
  {
   "cell_type": "code",
   "execution_count": null,
   "metadata": {},
   "outputs": [],
   "source": []
  },
  {
   "cell_type": "code",
   "execution_count": 90,
   "metadata": {},
   "outputs": [
    {
     "name": "stdout",
     "output_type": "stream",
     "text": [
      "17\n",
      "Pattern : (?=(5[A-Z].*?){3})\n",
      "GroupDict                              Entire match                                   Span\n",
      "('5C',)                                                                             (1, 1)\n",
      "---------------------------------------------------------------------------------------------------------\n",
      "GroupDict                              Entire match                                   Span\n",
      "('5D',)                                                                             (6, 6)\n",
      "---------------------------------------------------------------------------------------------------------\n",
      "Pattern : (?=(5[A-Z].*?){3}).*\n",
      "GroupDict                              Entire match                                   Span\n",
      "('5C',)                              5Aaaa5Bnn5Cmm5DD                              (1, 17)\n",
      "---------------------------------------------------------------------------------------------------------\n",
      "Pattern : (?=(5[A-Z].*){3})\n",
      "GroupDict                              Entire match                                   Span\n",
      "('5DD',)                                                                            (1, 1)\n",
      "---------------------------------------------------------------------------------------------------------\n",
      "GroupDict                              Entire match                                   Span\n",
      "('5DD',)                                                                            (6, 6)\n",
      "---------------------------------------------------------------------------------------------------------\n"
     ]
    }
   ],
   "source": []
  },
  {
   "cell_type": "code",
   "execution_count": null,
   "metadata": {},
   "outputs": [],
   "source": []
  },
  {
   "cell_type": "code",
   "execution_count": 99,
   "metadata": {},
   "outputs": [
    {
     "name": "stdout",
     "output_type": "stream",
     "text": [
      "8\n",
      "Pattern : (?=(([^A-Z]*[A-Z]){3}))\n",
      "GroupDict                              Entire match                                   Span\n",
      "('abfFcDeE', 'eE')                                                                  (0, 0)\n",
      "---------------------------------------------------------------------------------------------------------\n",
      "GroupDict                              Entire match                                   Span\n",
      "('bfFcDeE', 'eE')                                                                   (1, 1)\n",
      "---------------------------------------------------------------------------------------------------------\n",
      "GroupDict                              Entire match                                   Span\n",
      "('fFcDeE', 'eE')                                                                    (2, 2)\n",
      "---------------------------------------------------------------------------------------------------------\n",
      "GroupDict                              Entire match                                   Span\n",
      "('FcDeE', 'eE')                                                                     (3, 3)\n",
      "---------------------------------------------------------------------------------------------------------\n"
     ]
    }
   ],
   "source": [
    "\n",
    "\n",
    "s='abfFcDeE'\n",
    "print(len(s))\n",
    "\n",
    "\n",
    "\n",
    "pattern = [r'(?=(([^A-Z]*[A-Z]){3}))']\n",
    "\n",
    "for p in pattern:\n",
    "  print(f\"Pattern : {p}\")\n",
    "  for match in re.finditer(p,s):\n",
    "    #  print(match.span())\n",
    "      print (f\"{'GroupDict' : <30}\",end='')\n",
    "      print(f\"{'Entire match' : ^30}\",end='')\n",
    "      print(f\"{'Span': >30}\")\n",
    "      print(f\"{str(match.groups() ): <30}\",end=\"\")\n",
    "      print(f\"{match.group(): ^30}\",end=\"\")\n",
    "      print(f\"{str(match.span()) : >30}\")\n",
    "      \n",
    "      print(\"---------------------------------------------------------------------------------------------------------\")"
   ]
  },
  {
   "cell_type": "code",
   "execution_count": null,
   "metadata": {},
   "outputs": [],
   "source": []
  },
  {
   "cell_type": "code",
   "execution_count": 107,
   "metadata": {},
   "outputs": [
    {
     "name": "stdout",
     "output_type": "stream",
     "text": [
      "16\n",
      "Pattern : (?=[A-Z]{2})C\n",
      "GroupDict                              Entire match                                   Span\n",
      "()                                          C                                       (6, 7)\n",
      "---------------------------------------------------------------------------------------------------------\n",
      "GroupDict                              Entire match                                   Span\n",
      "()                                          C                                       (7, 8)\n",
      "---------------------------------------------------------------------------------------------------------\n",
      "GroupDict                              Entire match                                   Span\n",
      "()                                          C                                     (13, 14)\n",
      "---------------------------------------------------------------------------------------------------------\n",
      "Pattern : C(?=[A-Z]{2})\n",
      "GroupDict                              Entire match                                   Span\n",
      "()                                          C                                       (6, 7)\n",
      "---------------------------------------------------------------------------------------------------------\n",
      "GroupDict                              Entire match                                   Span\n",
      "()                                          C                                     (13, 14)\n",
      "---------------------------------------------------------------------------------------------------------\n"
     ]
    }
   ],
   "source": [
    "\n",
    "\n",
    "s='abcDBACCDdfdsCAD'\n",
    "print(len(s))\n",
    "\n",
    "# In first i am searching for Two coapital and returing the first capital latter to be as C. So it matches CC\n",
    "# CD and CA\n",
    "# In seccond after C i am looking for two capital letters. CCD and CAD\n",
    "\n",
    "\n",
    "pattern = [r'(?=[A-Z]{2})C', r'C(?=[A-Z]{2})']\n",
    "\n",
    "for p in pattern:\n",
    "  print(f\"Pattern : {p}\")\n",
    "  for match in re.finditer(p,s):\n",
    "    #  print(match.span())\n",
    "      print (f\"{'GroupDict' : <30}\",end='')\n",
    "      print(f\"{'Entire match' : ^30}\",end='')\n",
    "      print(f\"{'Span': >30}\")\n",
    "      print(f\"{str(match.groups() ): <30}\",end=\"\")\n",
    "      print(f\"{match.group(): ^30}\",end=\"\")\n",
    "      print(f\"{str(match.span()) : >30}\")\n",
    "      \n",
    "      print(\"---------------------------------------------------------------------------------------------------------\")"
   ]
  },
  {
   "cell_type": "code",
   "execution_count": null,
   "metadata": {},
   "outputs": [],
   "source": []
  },
  {
   "cell_type": "code",
   "execution_count": 108,
   "metadata": {},
   "outputs": [
    {
     "name": "stdout",
     "output_type": "stream",
     "text": [
      "Pattern : (?<=[a-z])(?=[A-Z])\n",
      "GroupDict                              Entire match                                   Span\n",
      "()                                                                                  (6, 6)\n",
      "---------------------------------------------------------------------------------------------------------\n",
      "GroupDict                              Entire match                                   Span\n",
      "()                                                                                  (9, 9)\n",
      "---------------------------------------------------------------------------------------------------------\n",
      "GroupDict                              Entire match                                   Span\n",
      "()                                                                                (14, 14)\n",
      "---------------------------------------------------------------------------------------------------------\n",
      "GroupDict                              Entire match                                   Span\n",
      "()                                                                                (16, 16)\n",
      "---------------------------------------------------------------------------------------------------------\n",
      "GroupDict                              Entire match                                   Span\n",
      "()                                                                                (18, 18)\n",
      "---------------------------------------------------------------------------------------------------------\n",
      "GroupDict                              Entire match                                   Span\n",
      "()                                                                                (23, 23)\n",
      "---------------------------------------------------------------------------------------------------------\n"
     ]
    }
   ],
   "source": [
    "s= 'HaroldAndKumarGoToWhiteCastle'\n",
    "\n",
    "\n",
    "# Looking for small a followed by capital A to split\n",
    "# Combination of postive lookahed and positive look behind\n",
    "\n",
    "\n",
    "pattern = [r'(?<=[a-z])(?=[A-Z])']\n",
    "\n",
    "for p in pattern:\n",
    "  print(f\"Pattern : {p}\")\n",
    "  for match in re.finditer(p,s):\n",
    "    #  print(match.span())\n",
    "      print (f\"{'GroupDict' : <30}\",end='')\n",
    "      print(f\"{'Entire match' : ^30}\",end='')\n",
    "      print(f\"{'Span': >30}\")\n",
    "      print(f\"{str(match.groups() ): <30}\",end=\"\")\n",
    "      print(f\"{match.group(): ^30}\",end=\"\")\n",
    "      print(f\"{str(match.span()) : >30}\")\n",
    "      \n",
    "      print(\"---------------------------------------------------------------------------------------------------------\")"
   ]
  },
  {
   "cell_type": "code",
   "execution_count": null,
   "metadata": {},
   "outputs": [],
   "source": []
  },
  {
   "cell_type": "code",
   "execution_count": null,
   "metadata": {},
   "outputs": [],
   "source": []
  },
  {
   "cell_type": "code",
   "execution_count": null,
   "metadata": {},
   "outputs": [],
   "source": [
    "# 1. The password must have between six and ten word characters \\w\n",
    "# 2. It must include at least one lowercase character [a-z]\n",
    "# 3. It must include at least three uppercase characters [A-Z]\n",
    "# 4. It must include at least one digit \\d\n",
    "\n",
    "# Solu -> \\A(?=\\w{6,10}\\z)(?=[^a-z]*[a-z])(?=(?:[^A-Z]*[A-Z]){3})(?=\\D*\\d).*"
   ]
  },
  {
   "cell_type": "code",
   "execution_count": null,
   "metadata": {},
   "outputs": [],
   "source": [
    "# Character(s)\tMeaning\n",
    "# .\tMatches any single character except newline\n",
    "# ^\tAnchors a match at the start of a string\n",
    "# ∙ Complements a character class\n",
    "# $\tAnchors a match at the end of a string\n",
    "# *\tMatches zero or more repetitions\n",
    "# +\tMatches one or more repetitions\n",
    "# ?\t Matches zero or one repetition\n",
    "# ∙ Specifies the non-greedy versions of *, +, and ?\n",
    "# ∙ Introduces a lookahead or lookbehind assertion\n",
    "# ∙ Creates a named group\n",
    "# {}\tMatches an explicitly specified number of repetitions\n",
    "# \\\t∙ Escapes a metacharacter of its special meaning\n",
    "# ∙ Introduces a special character class\n",
    "# ∙ Introduces a grouping backreference\n",
    "# []\tSpecifies a character class\n",
    "# |\tDesignates alternation\n",
    "# ()\tCreates a group\n",
    "# :\n",
    "# #\n",
    "# =\n",
    "# !\tDesignate a specialized group\n",
    "# <>\tCreates a named group"
   ]
  },
  {
   "cell_type": "code",
   "execution_count": 111,
   "metadata": {},
   "outputs": [
    {
     "data": {
      "text/plain": [
       "'foo'"
      ]
     },
     "execution_count": 111,
     "metadata": {},
     "output_type": "execute_result"
    }
   ],
   "source": [
    "# (?P=<name>)\n",
    "\n",
    "#(?(ch)(?P=ch)|)\tThe contents of the group named ch if it exists, or the empty string if it doesn’t\n",
    "\n",
    "# Matches the contents of a previously captured named group.\n",
    "\n",
    "m = re.search(r'(?P<word>\\w+),(?P=word)', 'foo,foo')\n",
    "m\n",
    "\n",
    "m.group('word')\n"
   ]
  },
  {
   "cell_type": "code",
   "execution_count": null,
   "metadata": {},
   "outputs": [],
   "source": [
    "# (?:<regex>)\n",
    "EX '?=(?:[A-Z])'\n",
    "\n",
    "# Creates a non-capturing group."
   ]
  },
  {
   "cell_type": "code",
   "execution_count": null,
   "metadata": {},
   "outputs": [],
   "source": []
  },
  {
   "cell_type": "code",
   "execution_count": 113,
   "metadata": {},
   "outputs": [
    {
     "name": "stdout",
     "output_type": "stream",
     "text": [
      "<re.Match object; span=(0, 9), match='###foobar'>\n",
      "None\n"
     ]
    }
   ],
   "source": [
    "# # # (?(<n>)<yes-regex>|<no-regex>)\n",
    "# # # (?(<name>)<yes-regex>|<no-regex>)\n",
    "\n",
    "# # # Specifies a conditional match.\n",
    "\n",
    "# # A conditional match matches against one of two specified regexes depending on whether the given group exists:\n",
    "\n",
    "# # (?(<n>)<yes-regex>|<no-regex>) matches against <yes-regex> if a group numbered <n> exists. \n",
    "# # Otherwise, it matches against <no-regex>.\n",
    "\n",
    "# # (?(<name>)<yes-regex>|<no-regex>) matches against <yes-regex> if a group named <name> exists.\n",
    "# #  Otherwise, it matches against <no-regex>.\n",
    "\n",
    "# # Conditional matches are better illustrated with an example. Consider this regex:\n",
    "\n",
    "# regex = r'^(###)?foo(?(1)bar|baz)'\n",
    "# Here are the parts of this regex broken out with some explanation:\n",
    "\n",
    "# ^(###)? indicates that the search string optionally begins with '###'. \n",
    "# If it does, then the grouping parentheses around ### will create a group numbered 1. Otherwise, no such group will exist.\n",
    "# The next portion, foo, literally matches the string 'foo'.\n",
    "# Lastly, (?(1)bar|baz) matches against 'bar' if group 1 exists and 'baz' if it doesn’t.\n",
    "\n",
    "regex = r'^(###)?foo(?(1)bar|baz)'\n",
    "print(re.search(regex, '###foobar'))\n",
    "print(re.search(regex, '###foobaz'))\n"
   ]
  },
  {
   "cell_type": "code",
   "execution_count": 118,
   "metadata": {},
   "outputs": [],
   "source": [
    "#REGEX FLAGS"
   ]
  },
  {
   "cell_type": "code",
   "execution_count": 116,
   "metadata": {},
   "outputs": [],
   "source": [
    "# Short Name\tLong Name\tEffect\n",
    "# re.I\tre.IGNORECASE\tMakes matching of alphabetic characters case-insensitive\n",
    "# re.M\tre.MULTILINE\tCauses start-of-string and end-of-string anchors to match embedded newlines\n",
    "# re.S\tre.DOTALL\tCauses the dot metacharacter to match a newline\n",
    "# re.X\tre.VERBOSE\tAllows inclusion of whitespace and comments within a regular expression\n",
    "# ----\tre.DEBUG\tCauses the regex parser to display debugging information to the console\n",
    "# re.A\tre.ASCII\tSpecifies ASCII encoding for character classification\n",
    "# re.U\tre.UNICODE\tSpecifies Unicode encoding for character classification\n",
    "# re.L                            \tre.LOCALE\tSpecifies encoding for character classification based on the current locale"
   ]
  },
  {
   "cell_type": "code",
   "execution_count": 117,
   "metadata": {},
   "outputs": [
    {
     "name": "stdout",
     "output_type": "stream",
     "text": [
      "<re.Match object; span=(0, 3), match='aaa'>\n",
      "<re.Match object; span=(3, 6), match='AAA'>\n",
      "<re.Match object; span=(0, 6), match='aaaAAA'>\n",
      "<re.Match object; span=(0, 6), match='aaaAAA'>\n"
     ]
    }
   ],
   "source": [
    "print(re.search('a+', 'aaaAAA'))\n",
    "\n",
    "print(re.search('A+', 'aaaAAA'))\n",
    "\n",
    "\n",
    "print(re.search('a+', 'aaaAAA', re.I))\n",
    "\n",
    "print(re.search('A+', 'aaaAAA', re.IGNORECASE))"
   ]
  },
  {
   "cell_type": "code",
   "execution_count": null,
   "metadata": {},
   "outputs": [],
   "source": []
  },
  {
   "cell_type": "code",
   "execution_count": null,
   "metadata": {},
   "outputs": [],
   "source": []
  },
  {
   "cell_type": "code",
   "execution_count": null,
   "metadata": {},
   "outputs": [],
   "source": []
  },
  {
   "cell_type": "code",
   "execution_count": null,
   "metadata": {},
   "outputs": [],
   "source": []
  },
  {
   "cell_type": "code",
   "execution_count": null,
   "metadata": {},
   "outputs": [],
   "source": []
  },
  {
   "cell_type": "code",
   "execution_count": null,
   "metadata": {},
   "outputs": [],
   "source": []
  }
 ],
 "metadata": {
  "kernelspec": {
   "display_name": "base",
   "language": "python",
   "name": "python3"
  },
  "language_info": {
   "codemirror_mode": {
    "name": "ipython",
    "version": 3
   },
   "file_extension": ".py",
   "mimetype": "text/x-python",
   "name": "python",
   "nbconvert_exporter": "python",
   "pygments_lexer": "ipython3",
   "version": "3.7.6"
  },
  "orig_nbformat": 4
 },
 "nbformat": 4,
 "nbformat_minor": 2
}
